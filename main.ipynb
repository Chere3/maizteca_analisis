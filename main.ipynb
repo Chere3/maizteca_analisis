{
 "cells": [
  {
   "cell_type": "markdown",
   "metadata": {},
   "source": [
    "# Estudio de Mercado: Proyecto de Venta de Elotes 🌽\n",
    "\n",
    "Este notebook presenta un análisis detallado de un estudio de mercado realizado para evaluar la viabilidad de un negocio de venta de elotes. Utilizando los datos recopilados a partir de una encuesta, hemos explorado diversos aspectos del interés y las preferencias del consumidor en torno a este producto tradicional.\n",
    "\n",
    "## Objetivo del Proyecto\n",
    "\n",
    "El objetivo principal de este estudio es identificar las oportunidades, desafíos y preferencias de los consumidores con respecto a la compra de elotes. Esto incluye factores como la frecuencia de consumo, los lugares de compra preferidos, los sabores y combinaciones más populares, y el rango de precios aceptables. Estos datos permitirán obtener una visión más clara sobre la demanda de elotes en el mercado y establecer una estrategia de negocio eficaz.\n",
    "\n",
    "## Estructura del Análisis\n",
    "\n",
    "A lo largo de este notebook, usaremos **Matplotlib** para visualizar los resultados de la encuesta. Las visualizaciones ayudarán a ilustrar tendencias clave y ofrecerán un resumen gráfico de las estadísticas más relevantes, facilitando la interpretación de los datos y la toma de decisiones. A continuación, se desglosan los pasos específicos del análisis:\n",
    "\n",
    "1. **Descripción de los datos**: Presentación de las variables y dimensiones de la encuesta.\n",
    "2. **Análisis de la frecuencia de consumo**: ¿Los encuestados tienen una preferencia por los elotes?\n",
    "3. **Preferencias de compra**: Exploración de los lugares de compra preferidos.\n",
    "4. **Gustos y preferencias**: Análisis de sabores y combinaciones más populares.\n",
    "5. **Rango de precios**: Evaluación de los precios que los consumidores están dispuestos a pagar.\n",
    "\n",
    "Al final de este análisis, se presentarán conclusiones y recomendaciones que podrán servir como base para la toma de decisiones en el desarrollo de este proyecto de venta de elotes."
   ]
  },
  {
   "cell_type": "markdown",
   "metadata": {},
   "source": [
    "### Iniciando el proyecto en python\n",
    "Para iniciar el proyecto, se ha leído un archivo CSV utilizando la biblioteca pandas. El archivo CSV se encuentra en la ruta especificada por la variable fname, que tiene el valor 'p:\\\\python\\\\.venv\\\\Lib\\\\site-packages\\\\matplotlib\\\\mpl-data\\\\sample_data\\\\data\\\\maizteca.csv'.\n",
    "\n",
    "El archivo CSV contiene datos recopilados a partir de una encuesta sobre el consumo de elotes. Los datos se han cargado en un DataFrame de pandas llamado maizteca. El DataFrame tiene las siguientes columnas: 'Marca temporal', 'sexo', 'edad', 'gusto elote', 'condimentos favoritos', 'precio', 'formato presentacion', 'intolerante lactosa' y 'grado de coccion'.\n",
    "\n",
    "El DataFrame maizteca tiene un total de 60 filas y 9 columnas. Algunas columnas pueden contener valores nulos, como se indica en el resumen del DataFrame. Los tipos de datos de todas las columnas son objetos (cadenas de texto).\n",
    "\n",
    "El objetivo de leer este archivo CSV es utilizar los datos recopilados en la encuesta para realizar un análisis detallado del estudio de mercado sobre la venta de elotes."
   ]
  },
  {
   "cell_type": "code",
   "execution_count": 4,
   "metadata": {},
   "outputs": [],
   "source": [
    "import matplotlib.pyplot as plt\n",
    "import matplotlib.cbook as cbook\n",
    "\n",
    "import numpy as np\n",
    "import pandas as pd\n",
    "\n",
    "path = 'data/maizteca.csv'\n",
    "\n",
    "fname = cbook.get_sample_data(path, asfileobj=False)\n",
    "maizteca = pd.read_csv(path)\n",
    "\n",
    "# Convert the text data to numbers, and plot it\n",
    "data = maizteca.to_numpy()"
   ]
  },
  {
   "cell_type": "markdown",
   "metadata": {},
   "source": [
    "## Creamos la primera grafica en base a nuestros datos anteriores\n",
    "Ahora, con ayuda de matplotlib, crearemos la primera grafica de barras usando las funciones de matplotlib"
   ]
  },
  {
   "cell_type": "code",
   "execution_count": 6,
   "metadata": {},
   "outputs": [
    {
     "name": "stdout",
     "output_type": "stream",
     "text": [
      "        Sexo  Cantidad de respuestas\n",
      "0   Femenino                    24.0\n",
      "1  Masculino                    24.0\n",
      "2       Otro                    12.0\n"
     ]
    },
    {
     "data": {
      "image/png": "[encoded data removed]",
      "text/plain": [
       "<Figure size 640x480 with 1 Axes>"
      ]
     },
     "metadata": {},
     "output_type": "display_data"
    }
   ],
   "source": [
    "# Get the unique values of the first column\n",
    "sex_x = np.unique(data[:, 1])\n",
    "\n",
    "# Based in the unique values of the first column, get the number of answers\n",
    "sex_y = np.zeros(len(sex_x))\n",
    "\n",
    "\n",
    "# At the answers column, filter the answers that are not \"Masculino\" or \"Femenino\", and set them to \"Otro\"\n",
    "for i in range(len(data)):\n",
    "    if data[i, 1] != \"Masculino\" and data[i, 1] != \"Femenino\":\n",
    "        data[i, 1] = \"Otro\"\n",
    "\n",
    "# Count the number of answers and filter the other answers\n",
    "for i in range(len(data)):\n",
    "    if data[i, 1] == \"Masculino\":\n",
    "        sex_y[0] += 1\n",
    "    elif data[i, 1] == \"Femenino\":\n",
    "        sex_y[1] += 1\n",
    "    else:\n",
    "        sex_y[2] += 1\n",
    "\n",
    "# Set the x to the new unique values\n",
    "sex_x = np.unique(data[:, 1])\n",
    "sex_y = np.array([sex_y[0], sex_y[1], sex_y[2]])\n",
    "\n",
    "# Plot the data in bar\n",
    "fig, ax = plt.subplots()\n",
    "\n",
    "# Set the title\n",
    "ax.set_title(\"Distribución de sexo\")\n",
    "ax.set_title(\"Estudio de mercado de maizteca\", fontsize=18)\n",
    "ax.set_xlabel(\"Sexo\", fontsize=14)\n",
    "\n",
    "# Set the bars colors\n",
    "colors = [\"blue\", \"red\", \"green\"]\n",
    "\n",
    "# Print the data in table with pandas\n",
    "print(pd.DataFrame( {\"Sexo\": sex_x , \"Cantidad de respuestas\": sex_y}))\n",
    "\n",
    "# Set the x and sex_y labels\n",
    "ax.bar(sex_x, sex_y, color=colors)\n",
    "\n",
    "\n",
    "# Show the data\n",
    "plt.show()"
   ]
  },
  {
   "cell_type": "markdown",
   "metadata": {
    "vscode": {
     "languageId": "markdown"
    }
   },
   "source": [
    "Este código realiza un análisis de la distribución de respuestas por sexo en un conjunto de datos y genera una gráfica de barras utilizando Matplotlib. A continuación se detallan los pasos que sigue el código:\n",
    "\n",
    "1. **Obtener los valores únicos de la primera columna**:\n",
    "   ```python\n",
    "   sex_x = np.unique(data[:, 1])\n",
    "      Se obtienen los valores únicos de la primera columna del conjunto de datos, que representan los diferentes sexos.\n",
    "\n",
    "2. **Inicializar un array para contar las respuestas**:\n",
    "   ```python\n",
    "   sex_y = np.zeros(len(x))\n",
    "   ```\n",
    "   Se inicializa un array de ceros con la misma longitud que el número de valores únicos de sexos.\n",
    "\n",
    "3. **Filtrar y categorizar las respuestas**:\n",
    "   ```python\n",
    "   for i in range(len(data)):\n",
    "       if data[i, 1] != \"Masculino\" and data[i, 1] != \"Femenino\":\n",
    "           data[i, 1] = \"Otro\"\n",
    "       print(data[i, 1])\n",
    "   ```\n",
    "   Se recorre el conjunto de datos y se categorizan las respuestas que no son \"Masculino\" o \"Femenino\" como \"Otro\".\n",
    "\n",
    "4. **Contar el número de respuestas por categoría**:\n",
    "   ```python\n",
    "   for i in range(len(data)):\n",
    "       if data[i, 1] == \"Masculino\":\n",
    "           sex_y[0] += 1\n",
    "       elif data[i, 1] == \"Femenino\":\n",
    "           sex_y[1] += 1\n",
    "       else:\n",
    "           sex_y[2] += 1\n",
    "   ```\n",
    "   Se cuenta el número de respuestas para cada categoría de sexo y se almacenan en el array\n",
    "\n",
    "5. **Actualizar los valores únicos de sexos**:\n",
    "   ```python\n",
    "   x = np.unique(data[:, 1])\n",
    "   sex_y = np.array([sex_y[0], sex_y[1], sex_y[2]])\n",
    "   ```\n",
    "   Se actualizan los valores únicos de sexos y se asegura que el array tenga los conteos correctos.\n",
    "\n",
    "6. **Generar la gráfica de barras**:\n",
    "   ```python\n",
    "   fig, ax = plt.subplots()\n",
    "   ax.set_title(\"Distribución de sexo\")\n",
    "   ax.set_title(\"Estudio de mercado de maizteca\", fontsize=18)\n",
    "   ax.set_xlabel(\"Sexo\", fontsize=14)\n",
    "   colors = [\"blue\", \"red\", \"green\"]\n",
    "   ax.bar(x, sex_y, color=colors)\n",
    "   plt.show()\n",
    "   ```\n",
    "   Se crea una figura y un conjunto de ejes utilizando Matplotlib. Se establece el título de la gráfica y las etiquetas de los ejes. Luego, se generan las barras de la gráfica con colores específicos para cada categoría de sexo y se muestra la gráfica.\n",
    "\n",
    "Este código permite visualizar la distribución de respuestas por sexo en un conjunto de datos, facilitando el análisis de la información recolectada."
   ]
  }
 ],
 "metadata": {
  "kernelspec": {
   "display_name": ".venv",
   "language": "python",
   "name": "python3"
  },
  "language_info": {
   "codemirror_mode": {
    "name": "ipython",
    "version": 3
   },
   "file_extension": ".py",
   "mimetype": "text/x-python",
   "name": "python",
   "nbconvert_exporter": "python",
   "pygments_lexer": "ipython3",
   "version": "3.12.5"
  }
 },
 "nbformat": 4,
 "nbformat_minor": 2
}
