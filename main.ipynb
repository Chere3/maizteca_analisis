{
 "cells": [
  {
   "cell_type": "markdown",
   "metadata": {},
   "source": [
    "# Estudio de Mercado: Proyecto de Venta de Elotes 🌽\n",
    "\n",
    "Este notebook presenta un análisis detallado de un estudio de mercado realizado para evaluar la viabilidad de un negocio de venta de elotes. Utilizando los datos recopilados a partir de una encuesta, hemos explorado diversos aspectos del interés y las preferencias del consumidor en torno a este producto tradicional.\n",
    "\n",
    "## Objetivo del Proyecto\n",
    "\n",
    "El objetivo principal de este estudio es identificar las oportunidades, desafíos y preferencias de los consumidores con respecto a la compra de elotes. Esto incluye factores como la frecuencia de consumo, los lugares de compra preferidos, los sabores y combinaciones más populares, y el rango de precios aceptables. Estos datos permitirán obtener una visión más clara sobre la demanda de elotes en el mercado y establecer una estrategia de negocio eficaz.\n",
    "\n",
    "## Estructura del Análisis\n",
    "\n",
    "A lo largo de este notebook, usaremos **Matplotlib** para visualizar los resultados de la encuesta. Las visualizaciones ayudarán a ilustrar tendencias clave y ofrecerán un resumen gráfico de las estadísticas más relevantes, facilitando la interpretación de los datos y la toma de decisiones. A continuación, se desglosan los pasos específicos del análisis:\n",
    "\n",
    "1. **Descripción de los datos**: Presentación de las variables y dimensiones de la encuesta.\n",
    "2. **Análisis de la frecuencia de consumo**: ¿Los encuestados tienen una preferencia por los elotes?\n",
    "3. **Preferencias de compra**: Exploración de los lugares de compra preferidos.\n",
    "4. **Gustos y preferencias**: Análisis de sabores y combinaciones más populares.\n",
    "5. **Rango de precios**: Evaluación de los precios que los consumidores están dispuestos a pagar.\n",
    "\n",
    "Al final de este análisis, se presentarán conclusiones y recomendaciones que podrán servir como base para la toma de decisiones en el desarrollo de este proyecto de venta de elotes."
   ]
  },
  {
   "cell_type": "markdown",
   "metadata": {},
   "source": [
    "## Iniciando el proyecto en python\n",
    "Para iniciar el proyecto, se ha leído un archivo CSV utilizando la biblioteca pandas. El archivo CSV se encuentra en la ruta especificada por la variable fname, que tiene el valor 'p:\\\\python\\\\.venv\\\\Lib\\\\site-packages\\\\matplotlib\\\\mpl-data\\\\sample_data\\\\data\\\\maizteca.csv'.\n",
    "\n",
    "El archivo CSV contiene datos recopilados a partir de una encuesta sobre el consumo de elotes. Los datos se han cargado en un DataFrame de pandas llamado maizteca. El DataFrame tiene las siguientes columnas: 'Marca temporal', 'sexo', 'edad', 'gusto elote', 'condimentos favoritos', 'precio', 'formato presentacion', 'intolerante lactosa' y 'grado de coccion'.\n",
    "\n",
    "El DataFrame maizteca tiene un total de 60 filas y 9 columnas. Algunas columnas pueden contener valores nulos, como se indica en el resumen del DataFrame. Los tipos de datos de todas las columnas son objetos (cadenas de texto).\n",
    "\n",
    "El objetivo de leer este archivo CSV es utilizar los datos recopilados en la encuesta para realizar un análisis detallado del estudio de mercado sobre la venta de elotes."
   ]
  },
  {
   "cell_type": "code",
   "execution_count": 4,
   "metadata": {},
   "outputs": [],
   "source": [
    "import matplotlib.pyplot as plt\n",
    "import matplotlib.cbook as cbook\n",
    "\n",
    "import numpy as np\n",
    "import pandas as pd\n",
    "\n",
    "path = 'data/maizteca.csv'\n",
    "\n",
    "fname = cbook.get_sample_data(path, asfileobj=False)\n",
    "maizteca = pd.read_csv(path)\n",
    "\n",
    "# Convert the text data to numbers, and plot it\n",
    "data = maizteca.to_numpy()"
   ]
  },
  {
   "cell_type": "markdown",
   "metadata": {},
   "source": [
    "## Creamos la primera grafica en base a nuestros datos anteriores\n",
    "Ahora, con ayuda de matplotlib, crearemos la primera grafica de barras usando las funciones de matplotlib"
   ]
  },
  {
   "cell_type": "code",
   "execution_count": 18,
   "metadata": {},
   "outputs": [
    {
     "name": "stdout",
     "output_type": "stream",
     "text": [
      "        Sexo  Número de personas\n",
      "0   Femenino                  24\n",
      "1  Masculino                  24\n",
      "2      Otros                  12\n"
     ]
    },
    {
     "data": {
      "image/png": "[encoded data removed]",
      "text/plain": [
       "<Figure size 640x480 with 1 Axes>"
      ]
     },
     "metadata": {},
     "output_type": "display_data"
    }
   ],
   "source": [
    "# Get the data.\n",
    "sex_data = np.unique(\n",
    "    np.array(\n",
    "        list(\n",
    "            map(lambda x: x if x in [\"Masculino\", \"Femenino\"] else \"Otros\", data[:, 1])\n",
    "        )\n",
    "    ),\n",
    "    return_counts=True,\n",
    ")\n",
    "\n",
    "# Plot the data and print table.\n",
    "print(pd.DataFrame({\"Sexo\": sex_data[0], \"Número de personas\": sex_data[1]}))\n",
    "plt.bar(sex_data[0], sex_data[1], color=\"blue\")\n",
    "\n",
    "# Add labels.\n",
    "plt.xlabel(\"Sexo\")\n",
    "plt.ylabel(\"Número de personas\")\n",
    "plt.title(\"Número de personas por sexo\")\n",
    "\n",
    "plt.show()"
   ]
  },
  {
   "cell_type": "markdown",
   "metadata": {},
   "source": [
    "### Explicación del código\n",
    "Este código realiza un análisis de los datos de género (sexo) obtenidos en la encuesta y luego visualiza el número de personas por cada categoría de género (Masculino, Femenino, Otros) usando un gráfico de barras. A continuación, se explica cada bloque del código:\n",
    "\n",
    "#### Paso 1: Obtener y Procesar los Datos de Género\n",
    "```python\n",
    "sex_data = np.unique(\n",
    "    np.array(\n",
    "        list(\n",
    "            map(lambda x: x if x in [\"Masculino\", \"Femenino\"] else \"Otros\", data[:, 1])\n",
    "        )\n",
    "    ),\n",
    "    return_counts=True,\n",
    ")\n",
    "```\n",
    "\n",
    "1. **`data[:, 1]`**: Este comando selecciona todos los datos de la segunda columna del array `data`, asumiendo que esta columna contiene la información de género.\n",
    "\n",
    "2. **`map(lambda x: x if x in [\"Masculino\", \"Femenino\"] else \"Otros\", data[:, 1])`**: Con esta línea, se utiliza una función `lambda` para recorrer cada valor de género. Si el valor es \"Masculino\" o \"Femenino\", se mantiene. Si es otro valor, se clasifica como \"Otros\".\n",
    "\n",
    "3. **`list(...)` y `np.array(...)`**: La función `map` devuelve un objeto iterable, por lo que se convierte en una lista, y luego en un array de Numpy para poder aplicar operaciones adicionales.\n",
    "\n",
    "4. **`np.unique(..., return_counts=True)`**: Esta función obtiene los valores únicos (\"Masculino\", \"Femenino\" y \"Otros\") y cuenta cuántas veces aparece cada valor en el array. `np.unique` devuelve dos arrays: el primero contiene los valores únicos y el segundo las cuentas de cada valor.\n",
    "\n",
    "   **Resultado de `sex_data`**:\n",
    "   `sex_data[0]` contiene las etiquetas de género (\"Masculino\", \"Femenino\", \"Otros\"), y `sex_data[1]` contiene el conteo de cada género.\n",
    "\n",
    "#### Paso 2: Crear una Tabla y Graficar los Resultados\n",
    "```python\n",
    "print(pd.DataFrame({\"Sexo\": sex_data[0], \"Número de personas\": sex_data[1]}))\n",
    "```\n",
    "\n",
    "Este código crea una tabla usando `pandas.DataFrame` para mostrar los datos de género en un formato de tabla, que facilita la revisión de los datos. `sex_data[0]` proporciona los valores de \"Sexo\" y `sex_data[1]` da el \"Número de personas\".\n",
    "\n",
    "#### Paso 3: Visualizar los Datos en un Gráfico de Barras\n",
    "```python\n",
    "plt.bar(sex_data[0], sex_data[1], color=\"blue\")\n",
    "```\n",
    "\n",
    "- **`plt.bar(sex_data[0], sex_data[1], color=\"blue\")`**: Aquí, se crea un gráfico de barras en el que `sex_data[0]` proporciona las etiquetas en el eje X (las categorías de sexo) y `sex_data[1]` el número de personas en el eje Y. El color de las barras se define como azul.\n",
    "\n",
    "#### Paso 4: Añadir Etiquetas al Gráfico\n",
    "```python\n",
    "plt.xlabel(\"Sexo\")\n",
    "plt.ylabel(\"Número de personas\")\n",
    "plt.title(\"Número de personas por sexo\")\n",
    "```\n",
    "\n",
    "Estas líneas añaden etiquetas al gráfico: \"Sexo\" en el eje X, \"Número de personas\" en el eje Y y un título general \"Número de personas por sexo\".\n",
    "\n",
    "#### Paso 5: Mostrar el Gráfico\n",
    "```python\n",
    "plt.show()\n",
    "```\n",
    "\n",
    "Esta línea finaliza el código mostrando el gráfico en el notebook. \n",
    "\n"
   ]
  }
 ],
 "metadata": {
  "kernelspec": {
   "display_name": ".venv",
   "language": "python",
   "name": "python3"
  },
  "language_info": {
   "codemirror_mode": {
    "name": "ipython",
    "version": 3
   },
   "file_extension": ".py",
   "mimetype": "text/x-python",
   "name": "python",
   "nbconvert_exporter": "python",
   "pygments_lexer": "ipython3",
   "version": "3.12.5"
  }
 },
 "nbformat": 4,
 "nbformat_minor": 2
}
